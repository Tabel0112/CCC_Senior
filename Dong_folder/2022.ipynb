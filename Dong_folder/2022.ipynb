{
 "cells": [
  {
   "cell_type": "markdown",
   "metadata": {},
   "source": [
    "## Good Four and Five"
   ]
  },
  {
   "cell_type": "markdown",
   "metadata": {},
   "source": [
    "### First attempt: DP\n",
    "We will make a table like this:\n",
    "\n",
    "|N  | 4 | 5 | 8 | 9 | 10| 12| 13|14| 15| 16| 18| 19| 20|\n",
    "|---|---|---|---|---|---|---|---|---|---|---|---|---|---|\n",
    "|P  |  1|  1|  1|  1|  1|1  | 2 | 1 | 1 | 1 | 1 | 1 | 2 |\n",
    "\n",
    "Where \n",
    "\n",
    "$$\n",
    "N(i) = N(i - 4) + N(i - 5)\n",
    "$$"
   ]
  },
  {
   "cell_type": "code",
   "execution_count": 136,
   "metadata": {},
   "outputs": [
    {
     "name": "stdout",
     "output_type": "stream",
     "text": [
      "9: 2 (1)   \n",
      "13: 3 (1)   \n",
      "14: 3 (1)   \n",
      "17: 4 (1)   \n",
      "18: 6 (1)   \n",
      "19: 4 (1)   \n",
      "21: 5 (1)   \n",
      "22: 10 (1)   \n",
      "23: 10 (1)   \n",
      "24: 6 (2)   \n",
      "25: 7 (2)   \n",
      "26: 15 (1)   \n",
      "27: 20 (1)   \n",
      "28: 16 (2)   \n",
      "29: 13 (2)   \n",
      "30: 22 (2)   \n",
      "31: 35 (1)   \n",
      "32: 36 (2)   \n",
      "33: 29 (2)   \n",
      "34: 35 (2)   \n",
      "35: 57 (2)   \n",
      "36: 71 (2)   \n",
      "37: 65 (2)   \n",
      "38: 64 (2)   \n",
      "39: 92 (2)   \n",
      "40: 128 (3)   \n",
      "128\n"
     ]
    }
   ],
   "source": [
    "import math\n",
    "\n",
    "\n",
    "def goodFourFive_2(n):\n",
    "    counter = 0\n",
    "    if (n % 5 == 0): counter += 1\n",
    "\n",
    "    while (n >= 0):\n",
    "        n = n - 4\n",
    "        if (n % 5 == 0):\n",
    "            counter += 1\n",
    "\n",
    "    return counter\n",
    "\n",
    "def goodFourFive(n):\n",
    "    len = 5\n",
    "    dist =[0, 0, 0, 1, 1]\n",
    "    while (len < n):\n",
    "        dist.append(dist[len - 4] + dist[len - 5])\n",
    "        len += 1\n",
    "    \n",
    "    for i, j in enumerate(dist):\n",
    "        if (j != goodFourFive_2(i + 1)):\n",
    "            print(\"%d: %d (%d)\" % (i + 1, j, goodFourFive_2(i + 1)), end = '   \\n')\n",
    "        '''else:\n",
    "            print(\"%d: %d\" % (i + 1, j), end = '   ')'''\n",
    "    return dist[n - 1]\n",
    "\n",
    "print(goodFourFive(40))\n",
    "\n",
    "def goodFourFive_2(n):\n",
    "    counter = 0\n",
    "    if (n % 5 == 0): counter += 1\n",
    "\n",
    "    while (n >= 0):\n",
    "        n = n - 4\n",
    "        if (n % 5 == 0):\n",
    "            counter += 1\n",
    "\n",
    "    return counter"
   ]
  },
  {
   "cell_type": "code",
   "execution_count": 137,
   "metadata": {},
   "outputs": [
    {
     "name": "stdout",
     "output_type": "stream",
     "text": [
      "01: 00   02: 00   03: 00   04: 01   05: 01   06: 00   07: 00   08: 01   09: 01   10: 01   11: 00   12: 01   13: 01   14: 01   15: 01   16: 01   17: 01   18: 01   19: 01   20: 02   21: 01   22: 01   23: 01   24: 02   25: 02   26: 01   27: 01   28: 02   29: 02   30: 02   31: 01   32: 02   33: 02   34: 02   35: 02   36: 02   37: 02   38: 02   39: 02   40: 03   "
     ]
    }
   ],
   "source": [
    "for i in range (1, 41):\n",
    "    print(\"%02d: %02d\"% (i, goodFourFive_2(i)), end = '   ')"
   ]
  },
  {
   "cell_type": "code",
   "execution_count": 138,
   "metadata": {},
   "outputs": [],
   "source": [
    "def goodFourFive(n):\n",
    "    counter = 0\n",
    "    if (n % 5 == 0): counter += 1\n",
    "\n",
    "    while (n >= 0):\n",
    "        n = n - 4\n",
    "        if (n % 5 == 0):\n",
    "            counter += 1\n",
    "\n",
    "    return counter"
   ]
  },
  {
   "cell_type": "code",
   "execution_count": 139,
   "metadata": {},
   "outputs": [
    {
     "data": {
      "text/plain": [
       "1"
      ]
     },
     "execution_count": 139,
     "metadata": {},
     "output_type": "execute_result"
    }
   ],
   "source": [
    "goodFourFive(13)"
   ]
  },
  {
   "cell_type": "code",
   "execution_count": 140,
   "metadata": {},
   "outputs": [
    {
     "data": {
      "text/plain": [
       "3"
      ]
     },
     "execution_count": 140,
     "metadata": {},
     "output_type": "execute_result"
    }
   ],
   "source": [
    "goodFourFive(40)"
   ]
  }
 ],
 "metadata": {
  "kernelspec": {
   "display_name": "Python 3.10.6 64-bit",
   "language": "python",
   "name": "python3"
  },
  "language_info": {
   "codemirror_mode": {
    "name": "ipython",
    "version": 3
   },
   "file_extension": ".py",
   "mimetype": "text/x-python",
   "name": "python",
   "nbconvert_exporter": "python",
   "pygments_lexer": "ipython3",
   "version": "3.10.6"
  },
  "orig_nbformat": 4,
  "vscode": {
   "interpreter": {
    "hash": "aee8b7b246df8f9039afb4144a1f6fd8d2ca17a180786b69acc140d282b71a49"
   }
  }
 },
 "nbformat": 4,
 "nbformat_minor": 2
}
