{
 "cells": [
  {
   "cell_type": "markdown",
   "metadata": {},
   "source": [
    "# Lunch Concern"
   ]
  },
  {
   "cell_type": "markdown",
   "metadata": {},
   "source": [
    "Assume we have 5 people, where $p_i$ is the inital position, $w_i$ is the moving speed, $d_i$ is the minimum distance to hear:\n",
    "\n",
    "$$\n",
    "V_1 = (p_1, w_1, d_1)\\\\\n",
    "V_2 = (p_2, w_2, d_2)\\\\\n",
    "V_3 = (p_3, w_3, d_3)\\\\\n",
    "V_4 = (p_4, w_4, d_4)\\\\\n",
    "V_5 = (p_5, w_5, d_5)\\\\\n",
    "$$\n",
    "\n",
    "Then we have following attempt:"
   ]
  },
  {
   "cell_type": "markdown",
   "metadata": {},
   "source": []
  },
  {
   "cell_type": "markdown",
   "metadata": {},
   "source": [
    "### Attempt 1 (DP):\n",
    "\n",
    "If we move all people to position $s$, then the total time requrie is:\n",
    "\n",
    "$$\n",
    "\n",
    "total(s) = \\sum_{i = 1}^N max((|p_i - s| - d_i), 0) * w_i\n",
    "\n",
    "$$"
   ]
  },
  {
   "cell_type": "markdown",
   "metadata": {},
   "source": [
    "**This is false !!!!**\n",
    "\n",
    "For the above example, if we move to position p_1 \n",
    "\n",
    "$$\n",
    "\\begin{aligned}\n",
    "total(p_1) &=  (p_1 - p_1 - d_1) * w_1 + (p_2 - p_1 - d_2) * w_2 + (p_3 - p_1 - d_3) * w_3 + ... + (p_5 - p_1 - d_5) * w_5\\\\\n",
    "        &= (p_2w_2 - p_1w_2 - d_2w_2) + (p_3w_3 -p_1w_3 - d_3w_3) + (p_4w_4 - p_1w_4 - d_4w_4) + (p_5w_4 - p_1w_5 - d_5w_5)\\\\\n",
    "        &= p_2w_2 + p_3w_3 + p_4w_4 + p_5w_4 - (p_1w_2 + p_1w_3 + p_1w_4 + p_1w_5) - (d_2w_2 + d_3w_3 + d_4w_4 + d_5w_5)\n",
    "\\end{aligned}\n",
    "$$"
   ]
  },
  {
   "cell_type": "code",
   "execution_count": 2,
   "metadata": {},
   "outputs": [
    {
     "data": {
      "text/plain": [
       "'\\n最终决定移动到 p_1\\n\\nt(p_1) =  (p_2 - p_1 - d2) * w2 + (p_3 - p_1 - d3) * w3 + ... + (p_5 - p_1 - d5) * w5\\n\\n= (p2w2 - p1w2 - d2w2) + (p3w3 -p1w3 - d3w3) + (p4w4 - p1w4 - d4w4) + (p5w4 - p1w5 - d5w5)\\n\\n= p2w2 + p3w3 + p4w4 + p5w4 - (p1w2 + p1w3 + p1w4 + p1w5) - (d2w2 + d3w3 + d4w4 + d5w5)\\n\\n最终决定移动到 p_2\\n\\nt(p_2) =  \\n\\np1w1 + p3w3 + p4w4 + p5w4 - (p2w1 + p2w3 + p2w4 + p2w5) - (d1w1 + d3w3 + d4w4 + d5w5)\\n\\n'"
      ]
     },
     "execution_count": 2,
     "metadata": {},
     "output_type": "execute_result"
    }
   ],
   "source": [
    "'''\n",
    "最终决定移动到 p_1\n",
    "\n",
    "t(p_1) =  (p_2 - p_1 - d2) * w2 + (p_3 - p_1 - d3) * w3 + ... + (p_5 - p_1 - d5) * w5\n",
    "\n",
    "= (p2w2 - p1w2 - d2w2) + (p3w3 -p1w3 - d3w3) + (p4w4 - p1w4 - d4w4) + (p5w4 - p1w5 - d5w5)\n",
    "\n",
    "= p2w2 + p3w3 + p4w4 + p5w4 - (p1w2 + p1w3 + p1w4 + p1w5) - (d2w2 + d3w3 + d4w4 + d5w5)\n",
    "\n",
    "最终决定移动到 p_2\n",
    "\n",
    "t(p_2) =  \n",
    "\n",
    "p1w1 + p3w3 + p4w4 + p5w4 - (p2w1 + p2w3 + p2w4 + p2w5) - (d1w1 + d3w3 + d4w4 + d5w5)\n",
    "\n",
    "'''"
   ]
  },
  {
   "cell_type": "markdown",
   "metadata": {},
   "source": [
    "### Attempt 2 (Tri-search):"
   ]
  },
  {
   "cell_type": "markdown",
   "metadata": {},
   "source": [
    "The Hardest problem is how to prove the problem is concave\n",
    "<center>\n",
    "<img src=\"tri.png\" alt=\"drawing\" width=\"800\"/>\n",
    "<center/>"
   ]
  },
  {
   "cell_type": "code",
   "execution_count": 9,
   "metadata": {},
   "outputs": [],
   "source": [
    "def findPMax(N, P, W, D):\n",
    "    PMax = 0\n",
    "    for i in range(N):\n",
    "        if P[i] > PMax:\n",
    "            PMax = P[i]\n",
    "    return PMax\n",
    "\n",
    "def findPMin(N, P, W, D):\n",
    "    PMin = 2 ** 31 - 1\n",
    "    for i in range(N):\n",
    "        if P[i] < PMin:\n",
    "            PMin = P[i]\n",
    "    return PMin\n",
    "\n",
    "def calTotalTime(N, P, W , D, p):\n",
    "    # 算出所有人移动到pos p 的时间\n",
    "    totalTime = 0\n",
    "    for i in range(N):\n",
    "        totalTime += max(abs(P[i] - p) - D[i], 0) * W[i]\n",
    "    \n",
    "    return totalTime\n",
    "\n",
    "\n",
    "def ternarySearch(N, P, W, D):\n",
    "    left = findPMin(N, P, W, D)\n",
    "    right = findPMax(N, P, W, D)\n",
    "\n",
    "\n",
    "    while right - left > 2:\n",
    "        leftPoint = (right - left) // 3 + left\n",
    "        rightPoint = 2 * (right - left) // 3 + left\n",
    "        leftTime = calTotalTime(N, P, W , D, leftPoint)\n",
    "        rightTime = calTotalTime(N, P, W , D, rightPoint)\n",
    "\n",
    "        \n",
    "        if leftTime < rightTime:\n",
    "            right = rightPoint\n",
    "        else:\n",
    "            left = leftPoint\n",
    "    \n",
    "    return min(calTotalTime(N, P, W , D, left), calTotalTime(N, P, W , D, right), calTotalTime(N, P, W , D, (left + right) // 2))\n"
   ]
  },
  {
   "cell_type": "markdown",
   "metadata": {},
   "source": []
  },
  {
   "cell_type": "code",
   "execution_count": 7,
   "metadata": {},
   "outputs": [
    {
     "name": "stdout",
     "output_type": "stream",
     "text": [
      "0\n",
      "111\n",
      "0 0\n",
      "0\n"
     ]
    }
   ],
   "source": [
    "N = 1\n",
    "P = [0]\n",
    "W = [1000]\n",
    "D = [0]\n",
    "t_1 = calTotalTime(N, P, W, D, 0)\n",
    "print(ternarySearch(N, P, W, D))"
   ]
  },
  {
   "cell_type": "code",
   "execution_count": 8,
   "metadata": {},
   "outputs": [
    {
     "name": "stdout",
     "output_type": "stream",
     "text": [
      "28\n",
      "111\n",
      "10 20\n",
      "10 20\n",
      "13 20\n",
      "15 20\n",
      "16 20\n",
      "17 20\n",
      "20\n"
     ]
    }
   ],
   "source": [
    "N = 2\n",
    "P = [10, 20]\n",
    "W = [4, 4]\n",
    "D = [3, 2]\n",
    "t_2 = calTotalTime(N, P, W, D, 20)\n",
    "print(ternarySearch(N, P, W, D))"
   ]
  },
  {
   "cell_type": "code",
   "execution_count": 13,
   "metadata": {},
   "outputs": [
    {
     "name": "stdout",
     "output_type": "stream",
     "text": [
      "3 8\n",
      "3 6\n",
      "0\n"
     ]
    }
   ],
   "source": [
    "N = 3\n",
    "P = [6, 8, 3]\n",
    "W = [1, 4, 1]\n",
    "D = [14, 5, 2]\n",
    "t_2 = calTotalTime(N, P, W, D, 20)\n",
    "print(ternarySearch(N, P, W, D))"
   ]
  }
 ],
 "metadata": {
  "kernelspec": {
   "display_name": "Python 3.10.6 64-bit",
   "language": "python",
   "name": "python3"
  },
  "language_info": {
   "codemirror_mode": {
    "name": "ipython",
    "version": 3
   },
   "file_extension": ".py",
   "mimetype": "text/x-python",
   "name": "python",
   "nbconvert_exporter": "python",
   "pygments_lexer": "ipython3",
   "version": "3.10.6"
  },
  "orig_nbformat": 4,
  "vscode": {
   "interpreter": {
    "hash": "aee8b7b246df8f9039afb4144a1f6fd8d2ca17a180786b69acc140d282b71a49"
   }
  }
 },
 "nbformat": 4,
 "nbformat_minor": 2
}
